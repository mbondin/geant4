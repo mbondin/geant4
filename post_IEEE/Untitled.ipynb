{
 "cells": [
  {
   "cell_type": "code",
   "execution_count": 1,
   "metadata": {},
   "outputs": [],
   "source": [
    "import h5py\n",
    "import matplotlib.pyplot as plt\n",
    "from matplotlib.colors import LogNorm\n",
    "import numpy as np\n",
    "from pylab import *\n",
    "from scipy.optimize import curve_fit\n",
    "from scipy.stats import norm\n",
    "import matplotlib.mlab as mlab\n",
    "import pylab as plb\n",
    "from scipy import asarray as ar\n",
    "from matplotlib.colors import LogNorm\n",
    "from scipy.io import savemat\n",
    "import time\n",
    "import csv\n",
    "from numpy import genfromtxt\n",
    "\n",
    "import pandas as pd\n",
    "import math"
   ]
  },
  {
   "cell_type": "markdown",
   "metadata": {},
   "source": [
    "Notes\n",
    "Need to filter pulse pile-up cases\n",
    "Need to evaluate range of backgrounds and see if pulse signal trimming is necessary\n",
    "Need to fix peak_coefficient function"
   ]
  },
  {
   "cell_type": "code",
   "execution_count": null,
   "metadata": {},
   "outputs": [],
   "source": []
  }
 ],
 "metadata": {
  "kernelspec": {
   "display_name": "Python 3",
   "language": "python",
   "name": "python3"
  },
  "language_info": {
   "codemirror_mode": {
    "name": "ipython",
    "version": 3
   },
   "file_extension": ".py",
   "mimetype": "text/x-python",
   "name": "python",
   "nbconvert_exporter": "python",
   "pygments_lexer": "ipython3",
   "version": "3.7.4"
  }
 },
 "nbformat": 4,
 "nbformat_minor": 2
}
